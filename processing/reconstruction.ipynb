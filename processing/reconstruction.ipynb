{
 "cells": [
  {
   "cell_type": "raw",
   "metadata": {},
   "source": [
    "License - for Non-Commercial Research and Educational Use Only\n",
    " \n",
    "Copyright (c) 2019, Idiap research institute\n",
    " \n",
    "All rights reserved.\n",
    " \n",
    "Run, copy, study, change, improve and redistribute source and binary forms, with or without modification, are permitted for non-commercial research and educational use only provided that the following conditions are met:\n",
    " \n",
    "1. Redistributions of source code must retain the above copyright notice, this list of conditions and the following disclaimer.\n",
    "2. Redistributions in binary form must reproduce the above copyright notice, this list of conditions and the following disclaimer in the documentation and/or other materials provided with the distribution.\n",
    " \n",
    "THIS SOFTWARE IS PROVIDED BY THE COPYRIGHT HOLDERS AND CONTRIBUTORS \"AS IS\" AND ANY EXPRESS OR IMPLIED WARRANTIES, INCLUDING, BUT NOT LIMITED TO, THE IMPLIED WARRANTIES OF MERCHANTABILITY AND FITNESS FOR A PARTICULAR PURPOSE ARE DISCLAIMED. IN NO EVENT SHALL THE COPYRIGHT HOLDER OR CONTRIBUTORS BE LIABLE FOR ANY DIRECT, INDIRECT, INCIDENTAL, SPECIAL, EXEMPLARY, OR CONSEQUENTIAL DAMAGES (INCLUDING, BUT NOT LIMITED TO, PROCUREMENT OF SUBSTITUTE GOODS OR SERVICES; LOSS OF USE, DATA, OR PROFITS; OR BUSINESS INTERRUPTION) HOWEVER CAUSED AND ON ANY THEORY OF LIABILITY, WHETHER IN CONTRACT, STRICT LIABILITY, OR TORT (INCLUDING NEGLIGENCE OR OTHERWISE) ARISING IN ANY WAY OUT OF THE USE OF THIS SOFTWARE, EVEN IF ADVISED OF THE POSSIBILITY OF SUCH DAMAGE.\n",
    " \n",
    "For permission to use for commercial purposes, please contact Idiap's Technology Transfer Office at tto@idiap.ch"
   ]
  },
  {
   "cell_type": "markdown",
   "metadata": {},
   "source": [
    "# Hue-Encoded Shutter Method (HESM) \n",
    "\n",
    "Main implementation notebook of our paper \"Temporal Super-Resolution Microscopy Using a\n",
    "Hue-Encoded Shutter\", BOE xxxx 2019\n",
    "\n",
    "Christian Jaques, Idiap, \n",
    "Christian.jaques@idiap.ch"
   ]
  },
  {
   "cell_type": "code",
   "execution_count": null,
   "metadata": {},
   "outputs": [],
   "source": [
    "%load_ext autoreload\n",
    "%autoreload 2\n",
    "import os\n",
    "import platform\n",
    "import numpy as np\n",
    "import numpy.matlib\n",
    "import matplotlib.pyplot as plt\n",
    "from utils import *\n",
    "from HESM_functions import *\n",
    "import tifffile as tiff\n",
    "\n",
    "%matplotlib inline\n",
    "plt.rcParams['figure.figsize'] = (8.0, 6.0)\n",
    "\n",
    "\n",
    "# Global parameters to execute the whole notebook with right cells\n",
    "directory = '../hesm_distrib_data/'\n",
    "filename = directory + 'figure2_ims.npy'"
   ]
  },
  {
   "cell_type": "markdown",
   "metadata": {},
   "source": [
    "### Load images and debayer them"
   ]
  },
  {
   "cell_type": "code",
   "execution_count": null,
   "metadata": {},
   "outputs": [],
   "source": [
    "ims = np.load(filename) \n",
    "\n",
    "# debayer sequence\n",
    "X, Y, N = ims.shape\n",
    "ims_rgb = np.zeros((N,X,Y,3))\n",
    "rgb_mean = np.zeros((N,3))\n",
    "for i in range(N):\n",
    "    ims_rgb[i] = demosaicing_CFA_Bayer_bilinear(ims[..., i])/ 255.\n",
    "    rgb_mean[i,0] = np.mean(ims_rgb[i,:,:,0])\n",
    "    rgb_mean[i,1] = np.mean(ims_rgb[i,:,:,1])\n",
    "    rgb_mean[i,2] = np.mean(ims_rgb[i,:,:,2])\n",
    "\n",
    "plt.plot(rgb_mean[:,0], 'r')\n",
    "plt.plot(rgb_mean[:,1], 'g')\n",
    "plt.plot(rgb_mean[:,2], 'b')\n",
    "plt.legend(['R', 'G', 'B'])\n",
    "plt.xlabel('frame #')\n",
    "plt.ylabel('Intensity')\n",
    "plt.title('RGB values over the whole set of images')"
   ]
  },
  {
   "cell_type": "markdown",
   "metadata": {},
   "source": [
    "## Solve Equation (12) to reconstruct $\\mathbf{x}^\\star$"
   ]
  },
  {
   "cell_type": "code",
   "execution_count": null,
   "metadata": {},
   "outputs": [],
   "source": [
    "# load parameters calibrated in another notebook\n",
    "gamma_params = np.load(directory+'gamma.npy')\n",
    "D = np.hstack(np.load(directory+'D.npy'))\n",
    "# build S and Gamma matrices\n",
    "S = build_S_matrix(time_functions=[[1, 0, 0], [0, 1, 0],  [0, 0, 1]])  # this code was different for Experiment 4.4\n",
    "Gamma = build_Gamma_matrix(params=gamma_params)\n",
    "A = S.dot(Gamma)\n",
    "print('Condition number of system matrix', np.linalg.cond(A))\n",
    "\n",
    "ims = ims_rgb #[2:15] # you may shorten the image sequence for faster tests\n",
    "x_star = apply_HESM(ims, A, D, lambd=0.001, verbose=True)\n",
    "\n",
    "# useful for data manipulation, files saving\n",
    "f = np.swapaxes(np.swapaxes(x_star,0,2),1,2)  # reorder axes"
   ]
  },
  {
   "cell_type": "markdown",
   "metadata": {},
   "source": [
    "# Select hue and apply it to super-resolved reconstruction"
   ]
  },
  {
   "cell_type": "code",
   "execution_count": null,
   "metadata": {},
   "outputs": [],
   "source": [
    "select_color_on_image = False # if false, images will be greyscale\n",
    "\n",
    "if(select_color_on_image is True):\n",
    "    image = plt.imread(directory + 'figure3_both_papers_white_light.png')\n",
    "    roi_white = select_roi(image, 'Select hue area')\n",
    "\n",
    "    xw = int(roi_white.pos()[0])\n",
    "    yw = int(roi_white.pos()[1])\n",
    "    ww = int(roi_white.size()[0])\n",
    "    hw = int(roi_white.size()[1])\n",
    "    r = float(np.mean(image[xw:xw+ww, yw:yw+hw,0]))\n",
    "    g = float(np.mean(image[xw:xw+ww, yw:yw+hw,1]))\n",
    "    b = float(np.mean(image[xw:xw+ww, yw:yw+hw,2]))\n",
    "else:\n",
    "    r = 1\n",
    "    g = 1\n",
    "    b = 1\n",
    "\n",
    "N, x, y = f.shape\n",
    "hesm_res = np.zeros((N, x, y,3))\n",
    "\n",
    "hesm_res[...,0] = r*f\n",
    "hesm_res[...,1] = g*f\n",
    "hesm_res[...,2] = b*f\n",
    "hesm_res = stretch_contrast(hesm_res, 0, 256).astype(np.uint8)\n",
    "write_tiff_stack(hesm_res, \"result_stack_\")"
   ]
  },
  {
   "cell_type": "markdown",
   "metadata": {},
   "source": [
    "# Results are saved as a tiff-stack\n",
    "An easy way to open them is using [Fiji](https://fiji.sc/)"
   ]
  },
  {
   "cell_type": "code",
   "execution_count": null,
   "metadata": {},
   "outputs": [],
   "source": []
  }
 ],
 "metadata": {
  "kernelspec": {
   "display_name": "py36 - CJ",
   "language": "python",
   "name": "py36"
  },
  "language_info": {
   "codemirror_mode": {
    "name": "ipython",
    "version": 3
   },
   "file_extension": ".py",
   "mimetype": "text/x-python",
   "name": "python",
   "nbconvert_exporter": "python",
   "pygments_lexer": "ipython3",
   "version": "3.6.8"
  }
 },
 "nbformat": 4,
 "nbformat_minor": 1
}
